{
 "cells": [
  {
   "cell_type": "markdown",
   "metadata": {},
   "source": [
    "# 2.3 实现一个大语言模型\n",
    "## 2.3.1 大模型结构设计\n",
    "### 目标\n",
    "设计一个小模型，用于专业领域知识问答，具备基本的通用能力。\n",
    "<center>\n",
    "<img src='./images/pumo_LLM.png' height='600'/>\n",
    "\n",
    "自研大模型结构图\n",
    "</center>\n",
    "\n",
    "\n",
    "1. **模块化设计**：\n",
    "   - 每个解码器层独立实现\n",
    "   - 支持分组查询注意力(GQA)\n",
    "   - 包含KV缓存机制\n",
    "2. **模型参数0.5B、1B、3B可配置**：\n",
    "   - 0.5B模型参数计算：\n",
    "   - Embedding层：100256 * 2048 ≈ 205M\n",
    "   - 注意力层：24层 * (3*2048² + 2048²) ≈ 200M\n",
    "   - MLP层：24层 * (3*2048*8192) ≈ 100M\n",
    "3. **推理优化**：\n",
    "   - 增量式KV缓存更新\n",
    "   - 位置感知的cache_pos跟踪\n",
    "   - 温度参数控制生成多样性\n",
    "4. **训练优化**：\n",
    "   - 使用RMSNorm代替LayerNorm\n",
    "   - 参数初始化采用GPT风格\n",
    "   - 所有线性层包含dropout\n",
    "\n"
   ]
  },
  {
   "cell_type": "markdown",
   "metadata": {},
   "source": [
    "## 2.3.2 多头注意力及KV-Cache实现\n",
    "\n",
    "- 标准multi-head attention机制\n",
    "- 对KV进行缓存，提升推理性能"
   ]
  },
  {
   "cell_type": "code",
   "execution_count": 4,
   "metadata": {},
   "outputs": [
    {
     "name": "stdout",
     "output_type": "stream",
     "text": [
      "(tensor([[[-0.3926, -0.1138, -0.7816,  0.5745],\n",
      "         [-0.2965, -0.1407, -0.6845,  0.6323],\n",
      "         [-0.3706, -0.1118, -0.7555,  0.5874],\n",
      "         [-0.3238, -0.1655, -0.7054,  0.5859]]], grad_fn=<ViewBackward0>), (tensor([[[[ 0.7682,  0.1764],\n",
      "          [ 0.2377,  0.1086]],\n",
      "\n",
      "         [[ 0.7857, -1.0319],\n",
      "          [-0.4040,  0.7176]],\n",
      "\n",
      "         [[ 0.7702, -0.0665],\n",
      "          [-0.0719,  0.4097]],\n",
      "\n",
      "         [[-0.2934,  0.1201],\n",
      "          [ 0.9249, -0.8144]]]], grad_fn=<ViewBackward0>), tensor([[[[-0.3901,  0.1544],\n",
      "          [ 0.0181, -1.2088]],\n",
      "\n",
      "         [[-0.0084,  0.5200],\n",
      "          [ 0.6822,  0.4627]],\n",
      "\n",
      "         [[-0.3689,  0.3770],\n",
      "          [ 0.3525, -0.9972]],\n",
      "\n",
      "         [[ 0.0135,  0.2346],\n",
      "          [ 0.5637,  0.7290]]]], grad_fn=<ViewBackward0>)))\n"
     ]
    }
   ],
   "source": [
    "import torch\n",
    "import torch.nn as nn\n",
    "import torch.nn.functional as F\n",
    "from typing import Optional, Tuple\n",
    "import math\n",
    "\n",
    "class testAttention(nn.Module):\n",
    "    def __init__(self, dim: int, n_heads: int, n_kv_heads: int):\n",
    "        super().__init__()\n",
    "        self.n_heads = n_heads\n",
    "        self.n_kv_heads = n_kv_heads\n",
    "        self.head_dim = dim // n_heads\n",
    "        \n",
    "        self.wq = nn.Linear(dim, n_heads * self.head_dim)\n",
    "        self.wk = nn.Linear(dim, n_kv_heads * self.head_dim)\n",
    "        self.wv = nn.Linear(dim, n_kv_heads * self.head_dim)\n",
    "        self.wo = nn.Linear(n_heads * self.head_dim, dim)\n",
    "\n",
    "    def forward(\n",
    "        self,\n",
    "        x: torch.Tensor,\n",
    "        kv_cache: Optional[Tuple[torch.Tensor, torch.Tensor]] = None,\n",
    "        cache_pos: int = 0\n",
    "    ):\n",
    "        bs, seq_len, _ = x.shape\n",
    "        \n",
    "        q = self.wq(x)\n",
    "        k = self.wk(x)\n",
    "        v = self.wv(x)\n",
    "\n",
    "        q = q.view(bs, seq_len, self.n_heads, self.head_dim)\n",
    "        k = k.view(bs, seq_len, self.n_kv_heads, self.head_dim)\n",
    "        v = v.view(bs, seq_len, self.n_kv_heads, self.head_dim)\n",
    "\n",
    "        if kv_cache is not None:\n",
    "            k_cache, v_cache = kv_cache\n",
    "            k = torch.cat([k_cache, k], dim=1)\n",
    "            v = torch.cat([v_cache, v], dim=1)\n",
    "        \n",
    "        new_kv_cache = (k, v)\n",
    "\n",
    "        k = k.repeat_interleave(self.n_heads // self.n_kv_heads, dim=2)\n",
    "        v = v.repeat_interleave(self.n_heads // self.n_kv_heads, dim=2)\n",
    "\n",
    "        q = q.transpose(1, 2)\n",
    "        k = k.transpose(1, 2)\n",
    "        v = v.transpose(1, 2)\n",
    "\n",
    "        scores = (q @ k.transpose(-2, -1)) / math.sqrt(self.head_dim)    \n",
    "        scores = F.softmax(scores, dim=-1)\n",
    "\n",
    "        output = (scores @ v).transpose(1, 2).contiguous()\n",
    "        output = output.view(bs, seq_len, -1)\n",
    "        return self.wo(output), new_kv_cache\n",
    "if __name__ == \"__main__\":    \n",
    "    x = torch.tensor([[[ 0.0503, -0.5268, -0.4598, 1.18228],\n",
    "            [ 2.2916,  0.4707,  0.7846, 0.1812],\n",
    "            [ 0.1385, -0.9353, -0.0033, 0.4812],\n",
    "            [ 0.3857,  2.1517, -0.2497, -0.5207]]])\n",
    "    attention = testAttention(4, 2, 2)\n",
    "    context = attention.forward(x)\n",
    "    print(context)"
   ]
  },
  {
   "cell_type": "markdown",
   "metadata": {},
   "source": [
    "## 2.3.3 RMSNorm 实现\n",
    "\n",
    "RMSNorm（Root Mean Square Normalization）是一种归一化技术，与传统的Layer Norm相比，RMSNorm计算更为简单高效，因为它不包含偏差项和缩放因子的调整。\n",
    "\n",
    "### RMSNorm 实现原理\n",
    "\n",
    "RMSNorm 的主要思想是基于输入张量的均方根（Root Mean Square, RMS）来标准化输入。对于一个输入张量 $X$，其RMSNorm定义如下：\n",
    "\n",
    "$$ \\text{RMSNorm}(X) = \\frac{X}{\\sqrt{\\text{E}[X^2] + \\epsilon}} \\cdot \\gamma $$\n",
    "\n",
    "其中：\n",
    "- $X$ 是输入张量，\n",
    "- $\\text{E}[X^2]$ 表示对输入张量的平方求平均值，\n",
    "- $\\epsilon$ 是为了数值稳定而添加的一个小常数，\n",
    "- $\\gamma$ 是可学习的缩放参数。"
   ]
  },
  {
   "cell_type": "code",
   "execution_count": 5,
   "metadata": {},
   "outputs": [
    {
     "name": "stdout",
     "output_type": "stream",
     "text": [
      "Input tensor:\n",
      "tensor([[[0.7945, 0.2481],\n",
      "         [0.2320, 0.3214],\n",
      "         [0.5971, 0.8361]],\n",
      "\n",
      "        [[0.0216, 0.5061],\n",
      "         [0.9314, 0.9561],\n",
      "         [0.7226, 0.3534]],\n",
      "\n",
      "        [[0.6394, 0.6808],\n",
      "         [0.7990, 0.0614],\n",
      "         [0.1031, 0.5477]],\n",
      "\n",
      "        [[0.6873, 0.0377],\n",
      "         [0.5393, 0.9283],\n",
      "         [0.5223, 0.1938]]])\n",
      "\n",
      "Output after RMSNorm:\n",
      "tensor([[[1.3499, 0.4215],\n",
      "         [0.8277, 1.1467],\n",
      "         [0.8219, 1.1509]],\n",
      "\n",
      "        [[0.0604, 1.4129],\n",
      "         [0.9868, 1.0130],\n",
      "         [1.2705, 0.6212]],\n",
      "\n",
      "        [[0.9681, 1.0309],\n",
      "         [1.4101, 0.1083],\n",
      "         [0.2617, 1.3898]],\n",
      "\n",
      "        [[1.4121, 0.0775],\n",
      "         [0.7103, 1.2229],\n",
      "         [1.3259, 0.4920]]], grad_fn=<MulBackward0>)\n"
     ]
    }
   ],
   "source": [
    "import torch\n",
    "import torch.nn as nn\n",
    "\n",
    "class RMSNorm(nn.Module):\n",
    "    def __init__(self, normalized_shape, eps=1e-8):\n",
    "        super(RMSNorm, self).__init__()\n",
    "        self.eps = eps\n",
    "        self.weight = nn.Parameter(torch.ones(normalized_shape))\n",
    "\n",
    "    def forward(self, x):\n",
    "        # 计算输入张量平方的均值\n",
    "        rms = torch.sqrt(torch.mean(x ** 2, dim=-1, keepdim=True) + self.eps)\n",
    "        # 标准化并乘以可学习的缩放参数\n",
    "        x_normalized = x / rms * self.weight\n",
    "        return x_normalized\n",
    "\n",
    "# 测试RMSNorm\n",
    "if __name__ == \"__main__\":\n",
    "    batch_size, seq_len, feat_dim = 4, 3, 2\n",
    "    x = torch.rand(batch_size, seq_len, feat_dim)\n",
    "    rms_norm = RMSNorm(feat_dim)\n",
    "    output = rms_norm(x)\n",
    "    print(\"Input tensor:\")\n",
    "    print(x)\n",
    "    print(\"\\nOutput after RMSNorm:\")\n",
    "    print(output)"
   ]
  },
  {
   "cell_type": "markdown",
   "metadata": {},
   "source": [
    "## 2.3.4 MLP层实现\n",
    "\n",
    "### GELU（Gaussian Error Linear Unit）激活函数\n",
    "\n",
    "GELU是一种平滑的激活函数，它基于随机正态分布的概率计算。与ReLU、Leaky ReLU等传统激活函数相比，GELU提供了更平滑的非线性变换，有助于提高深度学习模型的表现。GELU的公式定义如下：\n",
    "\n",
    "$$ \\text{GELU}(x) = x \\cdot \\Phi(x) $$\n",
    "\n",
    "其中，\\(\\Phi(x)\\) 是高斯分布的累积分布函数(CDF)，它可以近似为：\n",
    "\n",
    "$$ \\Phi(x) \\approx 0.5 \\left(1 + \\tanh\\left(\\sqrt{\\frac{2}{\\pi}} \\left(x + 0.044715x^3\\right)\\right)\\right) $$\n",
    "\n",
    "这个近似值在实践中被广泛使用，因为它能有效减少计算成本。"
   ]
  },
  {
   "cell_type": "code",
   "execution_count": 6,
   "metadata": {},
   "outputs": [
    {
     "data": {
      "image/png": "[encoded data removed]",
      "text/plain": [
       "<Figure size 800x600 with 1 Axes>"
      ]
     },
     "metadata": {},
     "output_type": "display_data"
    }
   ],
   "source": [
    "import numpy as np\n",
    "import matplotlib.pyplot as plt\n",
    "import math\n",
    "\n",
    "def gelu(x):\n",
    "    cdf = 0.5 * (1.0 + np.tanh((math.sqrt(2 / math.pi) * (x + 0.044715 * np.power(x, 3))))) \n",
    "    return x * cdf\n",
    "\n",
    "x = np.linspace(-4, 4, 1000)\n",
    "y = gelu(x)\n",
    "plt.figure(figsize=(8, 6))\n",
    "plt.plot(x, y, label='GELU')\n",
    "plt.title('GELU Activation Function')\n",
    "plt.xlabel('Input Value')\n",
    "plt.ylabel('Output Value')\n",
    "plt.grid(True)\n",
    "plt.legend()\n",
    "plt.show()"
   ]
  },
  {
   "cell_type": "markdown",
   "metadata": {},
   "source": [
    "下面是MLP层的实现："
   ]
  },
  {
   "cell_type": "code",
   "execution_count": null,
   "metadata": {},
   "outputs": [],
   "source": [
    "class testMLP(nn.Module):\n",
    "    def __init__(self, dim: int, hidden_dim: int, dropout: float):\n",
    "        super().__init__()\n",
    "        self.w1 = nn.Linear(dim, hidden_dim).to(device)\n",
    "        self.w2 = nn.Linear(hidden_dim, dim).to(device)\n",
    "        self.w3 = nn.Linear(hidden_dim, hidden_dim).to(device)\n",
    "        self.dropout = nn.Dropout(dropout).to(device)\n",
    "\n",
    "    def forward(self, x: torch.Tensor):\n",
    "        x = F.gelu(self.w1(x))\n",
    "        gate = self.w3(x)\n",
    "        return self.dropout(self.w2(x * gate))"
   ]
  },
  {
   "cell_type": "markdown",
   "metadata": {},
   "source": [
    "## 2.3.5 模型类的实现\n",
    "- 按照模型结构设计，组装Embedding层、Decoder层和输出层\n",
    "- forward前向推理，读取KV-cache缓存"
   ]
  },
  {
   "cell_type": "code",
   "execution_count": null,
   "metadata": {},
   "outputs": [],
   "source": [
    "class testModel(nn.Module):\n",
    "    def __init__(self, config: dict):\n",
    "        super().__init__()\n",
    "        self.config = config\n",
    "        self.embedding = nn.Embedding(config[\"vocab_size\"], config[\"dim\"]).to(device)\n",
    "        self.emb_dropout = nn.Dropout(config[\"dropout\"]).to(device)\n",
    "        self.layers = nn.ModuleList([\n",
    "            testDecoderLayer(\n",
    "                dim=config[\"dim\"],\n",
    "                n_heads=config[\"n_heads\"],\n",
    "                n_kv_heads=config.get(\"n_kv_heads\", config[\"n_heads\"] // 4),\n",
    "                mlp_dim=config[\"mlp_dim\"],\n",
    "                dropout=config[\"dropout\"]\n",
    "            ) for _ in range(config[\"n_layers\"])\n",
    "        ]).to(device)\n",
    "        self.norm = testRMSNorm(config[\"dim\"])\n",
    "        self.lm_head = nn.Linear(config[\"dim\"], config[\"vocab_size\"]).to(device)\n",
    "        \n",
    "        self.apply(self._init_weights)\n",
    "        \n",
    "    def _init_weights(self, module):\n",
    "        if isinstance(module, nn.Linear):\n",
    "            torch.nn.init.normal_(module.weight, mean=0.0, std=0.02)\n",
    "            if module.bias is not None:\n",
    "                torch.nn.init.zeros_(module.bias)\n",
    "        elif isinstance(module, nn.Embedding):\n",
    "            torch.nn.init.normal_(module.weight, mean=0.0, std=0.02)\n",
    "\n",
    "    def forward(\n",
    "        self, \n",
    "        input_ids: torch.Tensor,\n",
    "        kv_cache: Optional[List[Tuple[torch.Tensor, torch.Tensor]]] = None,\n",
    "        cache_pos: int = 0\n",
    "    ):\n",
    "        x = self.emb_dropout(self.embedding(input_ids))\n",
    "        \n",
    "        new_kv_cache = []\n",
    "        for i, layer in enumerate(self.layers):\n",
    "            layer_kv_cache = kv_cache[i] if kv_cache else None\n",
    "            x, layer_kv = layer(\n",
    "                x, \n",
    "                kv_cache=layer_kv_cache,\n",
    "                cache_pos=cache_pos\n",
    "            )\n",
    "            new_kv_cache.append(layer_kv)\n",
    "        \n",
    "        x = self.norm(x)\n",
    "        logits = self.lm_head(x)\n",
    "        return logits, new_kv_cache"
   ]
  },
  {
   "cell_type": "markdown",
   "metadata": {},
   "source": [
    "## 2.3.6 文本生成策略\n",
    "\n",
    "### **贪心搜索（Greedy Search）**\n",
    "**原理**：每一步都选择概率最高的token  \n",
    "**优点**：计算简单、速度快  \n",
    "**缺点**：容易陷入重复循环、缺乏多样性  \n",
    "**适用场景**：需要快速生成结果的简单任务"
   ]
  },
  {
   "cell_type": "code",
   "execution_count": 7,
   "metadata": {},
   "outputs": [
    {
     "name": "stdout",
     "output_type": "stream",
     "text": [
      "Next token: 9539\n"
     ]
    }
   ],
   "source": [
    "import torch\n",
    "\n",
    "def greedy_search(logits):\n",
    "    \"\"\"贪心搜索实现\"\"\"\n",
    "    # logits形状: [batch_size, vocab_size]\n",
    "    next_token = torch.argmax(logits, dim=-1)\n",
    "    return next_token\n",
    "\n",
    "# 使用示例\n",
    "logits = torch.randn(1, 50000)  # 模拟模型输出\n",
    "next_token = greedy_search(logits)\n",
    "print(f\"Next token: {next_token.item()}\")"
   ]
  },
  {
   "cell_type": "markdown",
   "metadata": {},
   "source": [
    "### **束搜索（Beam Search）**\n",
    "**原理**：维护多个候选序列，保留概率最高的B个路径  \n",
    "**优点**：生成质量较高  \n",
    "**缺点**：内存占用大、速度慢  \n",
    "**适用场景**：机器翻译、文本摘要等需要准确性的任务"
   ]
  },
  {
   "cell_type": "code",
   "execution_count": null,
   "metadata": {},
   "outputs": [
    {
     "name": "stdout",
     "output_type": "stream",
     "text": [
      "Sequence: [2, 0] Score: 1.0498221244986778\n",
      "Sequence: [2, 1] Score: 1.2729656758128876\n"
     ]
    }
   ],
   "source": [
    "def beam_search(logits, k=3):\n",
    "    sequences = [[list(), 0.0]]\n",
    "    for score in logits:\n",
    "        all_candidates = []\n",
    "        for seq, prob in sequences:\n",
    "            for idx, token_prob in enumerate(score):\n",
    "                candidate = [seq + [idx], prob - np.log(token_prob)]\n",
    "                all_candidates.append(candidate)\n",
    "        ordered = sorted(all_candidates, key=lambda x: x[1])\n",
    "        sequences = ordered[:k]\n",
    "    return sequences\n",
    "\n",
    "# 示例logits\n",
    "logits = np.array([[0.1, 0.2, 0.7], [0.5, 0.4, 0.1]])\n",
    "sequences = beam_search(logits, k=2)\n",
    "for seq in sequences:\n",
    "    print(\"Sequence:\", seq[0], \"Score:\", seq[1])"
   ]
  },
  {
   "cell_type": "markdown",
   "metadata": {},
   "source": [
    "\n",
    "### **Top-k 采样**\n",
    "**原理**：从概率最高的k个候选token中随机采样  \n",
    "**优点**：平衡确定性与多样性  \n",
    "**缺点**：需要调整k值  \n",
    "**适用场景**：故事生成、对话系统"
   ]
  },
  {
   "cell_type": "code",
   "execution_count": 13,
   "metadata": {},
   "outputs": [
    {
     "name": "stdout",
     "output_type": "stream",
     "text": [
      "Next word index: 4\n"
     ]
    }
   ],
   "source": [
    "import numpy as np\n",
    "\n",
    "def top_k_sampling(logits, k=5):\n",
    "    # 对logits进行排序并获取top-k索引\n",
    "    indices_to_remove = logits < np.partition(logits, -k)[-k]\n",
    "    # 将不在top-k中的元素设为负无穷，以排除它们\n",
    "    logits[indices_to_remove] = -float('Inf')\n",
    "    # 归一化概率分布\n",
    "    probs = np.exp(logits) / np.sum(np.exp(logits))\n",
    "    # 根据新的概率分布随机选择一个词\n",
    "    next_word = np.random.choice(len(probs), p=probs)\n",
    "    return next_word\n",
    "\n",
    "# 示例logits\n",
    "logits = np.array([0.1, 0.2, 0.7, 0.5, 0.4, 0.1])\n",
    "next_word = top_k_sampling(logits, k=3)\n",
    "print(\"Next word index:\", next_word)"
   ]
  },
  {
   "cell_type": "markdown",
   "metadata": {},
   "source": [
    "### **Top-p（核）采样**\n",
    "**原理**：按照从高到低的顺序累加词汇的概率，直到这些词汇的累积概率达到某个阈值P。然后，仅考虑这些词汇，将其他词汇的概率设为0，最后根据这个过滤后的分布进行采样。\n",
    "**优点**：动态调整候选集大小  \n",
    "**缺点**：需要调整p值  \n",
    "**适用场景**：创意写作、诗歌生成"
   ]
  },
  {
   "cell_type": "code",
   "execution_count": 14,
   "metadata": {},
   "outputs": [
    {
     "name": "stdout",
     "output_type": "stream",
     "text": [
      "Next word index: 0\n"
     ]
    }
   ],
   "source": [
    "def top_p_sampling(logits, p=0.9):\n",
    "    sorted_logits = -np.sort(-logits)  # 降序排列\n",
    "    sorted_indices = np.argsort(-logits)\n",
    "    cumulative_probs = np.cumsum(np.exp(sorted_logits - np.max(sorted_logits)))\n",
    "    # 找到最后一个使得累积概率小于等于p的索引\n",
    "    idx = np.searchsorted(cumulative_probs, p) + 1\n",
    "    # 过滤掉不在累积概率之内的单词\n",
    "    indices_to_remove = np.arange(len(logits))[~np.in1d(np.argsort(-logits), sorted_indices[:idx])]\n",
    "    logits[indices_to_remove] = -float('Inf')\n",
    "    # 归一化概率分布\n",
    "    probs = np.exp(logits) / np.sum(np.exp(logits))\n",
    "    # 根据新的概率分布随机选择一个词\n",
    "    next_word = np.random.choice(len(probs), p=probs)\n",
    "    return next_word\n",
    "\n",
    "# 示例logits\n",
    "logits = np.array([0.1, 0.2, 0.7, 0.5, 0.4, 0.1])\n",
    "next_word = top_p_sampling(logits, p=0.75)\n",
    "print(\"Next word index:\", next_word)"
   ]
  },
  {
   "cell_type": "markdown",
   "metadata": {},
   "source": [
    "\n",
    "### **温度采样（Temperature Sampling）**\n",
    "**原理**：通过温度参数调整概率分布  \n",
    "**优点**：灵活控制生成多样性  \n",
    "**缺点**：需要精细调节温度值  \n",
    "**适用场景**：需要控制输出随机性的场景"
   ]
  },
  {
   "cell_type": "code",
   "execution_count": null,
   "metadata": {},
   "outputs": [],
   "source": [
    "def temperature_sampling(logits, temperature=0.7):\n",
    "    \"\"\"温度采样实现\"\"\"\n",
    "    scaled_logits = logits / temperature\n",
    "    probs = torch.softmax(scaled_logits, dim=-1)\n",
    "    return torch.multinomial(probs, 1)"
   ]
  },
  {
   "cell_type": "markdown",
   "metadata": {},
   "source": [
    "\n",
    "### **典型应用场景对比**\n",
    "| 策略           | 速度 | 多样性 | 连贯性 | 适用场景               |\n",
    "|----------------|------|--------|--------|-----------------------|\n",
    "| 贪心搜索       | 快   | 低     | 高     | 简单问答              |\n",
    "| 束搜索         | 慢   | 低     | 最高   | 机器翻译              |\n",
    "| Top-k          | 中   | 中     | 中     | 通用文本生成          |\n",
    "| Top-p          | 中   | 高     | 中     | 创意写作              |\n",
    "| 温度采样       | 快   | 可调   | 可调   | 可控生成场景          |\n",
    "| 混合策略       | 中   | 高     | 高     | 工业级文本生成        |\n"
   ]
  },
  {
   "cell_type": "markdown",
   "metadata": {},
   "source": [
    "## 2.3.7 模型运行\n",
    "\n",
    "模型参数为3B，可以通过配置调节参数量，由于没有经过训练，当前生成的文本还是乱码。\n",
    "<center>\n",
    "<img src='./images/mymodel.png' height='500'/>\n",
    "</center>\n",
    "\n"
   ]
  }
 ],
 "metadata": {
  "kernelspec": {
   "display_name": "evn_py310",
   "language": "python",
   "name": "python3"
  },
  "language_info": {
   "codemirror_mode": {
    "name": "ipython",
    "version": 3
   },
   "file_extension": ".py",
   "mimetype": "text/x-python",
   "name": "python",
   "nbconvert_exporter": "python",
   "pygments_lexer": "ipython3",
   "version": "3.10.16"
  }
 },
 "nbformat": 4,
 "nbformat_minor": 2
}
